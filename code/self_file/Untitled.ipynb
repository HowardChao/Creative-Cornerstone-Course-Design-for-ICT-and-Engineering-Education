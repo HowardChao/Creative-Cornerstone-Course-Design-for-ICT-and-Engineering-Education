{
 "cells": [
  {
   "cell_type": "code",
   "execution_count": 5,
   "metadata": {},
   "outputs": [],
   "source": [
    "import pandas\n",
    "import numpy as np"
   ]
  },
  {
   "cell_type": "code",
   "execution_count": 6,
   "metadata": {},
   "outputs": [],
   "source": [
    "raw_data = np.array(pandas.read_csv(\"../python_file/data/UID.csv\"))#.values"
   ]
  },
  {
   "cell_type": "code",
   "execution_count": 21,
   "metadata": {},
   "outputs": [
    {
     "data": {
      "text/plain": [
       "array([['10BA617E', 0],\n",
       "       ['84EAB017', 1],\n",
       "       ['50335F7E', 2],\n",
       "       ['353D0AD6', 3],\n",
       "       ['556D04D6', 4],\n",
       "       ['C59B51D0', 5],\n",
       "       ['F51909D6', 6],\n",
       "       ['B547B5CF', 7],\n",
       "       ['0596E4D0', 8],\n",
       "       ['C561A5CF', 9],\n",
       "       ['957406D6', 10],\n",
       "       ['F5816AD0', 11],\n",
       "       ['C5F875CF', 12]], dtype=object)"
      ]
     },
     "execution_count": 21,
     "metadata": {},
     "output_type": "execute_result"
    }
   ],
   "source": [
    "raw_data"
   ]
  },
  {
   "cell_type": "code",
   "execution_count": 22,
   "metadata": {},
   "outputs": [
    {
     "name": "stdout",
     "output_type": "stream",
     "text": [
      "['10BA617E' 0]\n",
      "['84EAB017' 1]\n",
      "['50335F7E' 2]\n",
      "['353D0AD6' 3]\n",
      "['556D04D6' 4]\n",
      "['C59B51D0' 5]\n",
      "['F51909D6' 6]\n",
      "['B547B5CF' 7]\n",
      "['0596E4D0' 8]\n",
      "['C561A5CF' 9]\n",
      "['957406D6' 10]\n",
      "['F5816AD0' 11]\n",
      "['C5F875CF' 12]\n"
     ]
    }
   ],
   "source": [
    "for dt in raw_data:\n",
    "    print(dt)"
   ]
  },
  {
   "cell_type": "code",
   "execution_count": 13,
   "metadata": {},
   "outputs": [
    {
     "data": {
      "text/plain": [
       "[280650110,\n",
       " 2229973015,\n",
       " 1345544062,\n",
       " 893192918,\n",
       " 1433208022,\n",
       " 3315290576,\n",
       " 4112058838,\n",
       " 3041375695,\n",
       " 93775056,\n",
       " 3311510991,\n",
       " 2507409110,\n",
       " 4118899408,\n",
       " 3321394639]"
      ]
     },
     "execution_count": 13,
     "metadata": {},
     "output_type": "execute_result"
    }
   ],
   "source": [
    "cardList"
   ]
  },
  {
   "cell_type": "code",
   "execution_count": null,
   "metadata": {},
   "outputs": [],
   "source": []
  }
 ],
 "metadata": {
  "kernelspec": {
   "display_name": "Python 3",
   "language": "python",
   "name": "python3"
  },
  "language_info": {
   "codemirror_mode": {
    "name": "ipython",
    "version": 3
   },
   "file_extension": ".py",
   "mimetype": "text/x-python",
   "name": "python",
   "nbconvert_exporter": "python",
   "pygments_lexer": "ipython3",
   "version": "3.6.6"
  }
 },
 "nbformat": 4,
 "nbformat_minor": 2
}
