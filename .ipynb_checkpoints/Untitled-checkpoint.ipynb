{
 "cells": [
  {
   "cell_type": "code",
   "execution_count": 19,
   "metadata": {},
   "outputs": [],
   "source": [
    "import numpy as np\n",
    "import csv\n",
    "import pandas\n",
    "from enum import IntEnum"
   ]
  },
  {
   "cell_type": "code",
   "execution_count": 26,
   "metadata": {},
   "outputs": [],
   "source": [
    "raw_data = pandas.read_csv(\"./maze.csv\").values"
   ]
  },
  {
   "cell_type": "code",
   "execution_count": 28,
   "metadata": {},
   "outputs": [
    {
     "name": "stdout",
     "output_type": "stream",
     "text": [
      "[ 1. nan  2.  5. nan nan nan nan nan]\n",
      "[ 2.  1. nan nan nan nan nan nan nan]\n",
      "[ 3. nan nan  7. nan nan nan nan nan]\n",
      "[ 4. nan  5.  8. nan nan nan nan nan]\n",
      "[ 5.  4. nan  9.  1. nan nan nan nan]\n",
      "[ 6. nan nan 10. nan nan nan nan nan]\n",
      "[ 7. nan  8. nan  3. nan nan nan nan]\n",
      "[ 8.  7. nan 22.  4. nan nan nan nan]\n",
      "[ 9. nan 10. nan  5. nan nan nan nan]\n",
      "[10.  9. 13. 29.  6. nan nan  2. nan]\n",
      "[11. nan 18. 12. nan nan  3. nan nan]\n",
      "[12. nan 15. 13. 11. nan nan nan nan]\n",
      "[13. 10. 14. nan 12. nan nan nan nan]\n",
      "[14. 13. 16. 32. 15. nan nan nan nan]\n",
      "[15. 12. nan 14. nan nan nan nan nan]\n",
      "[16. 14. 20. 33. 17. nan nan nan nan]\n",
      "[17. nan nan 16. nan nan nan nan nan]\n",
      "[18. 11. nan 19. nan  3. nan nan nan]\n",
      "[19. nan nan nan 18. nan nan nan nan]\n",
      "[20. 16. nan 34. nan nan nan nan nan]\n",
      "[21. nan 22. nan nan nan nan nan nan]\n",
      "[22. 21. 23. 27.  8. nan nan  2. nan]\n",
      "[23. 22. nan 24. nan nan nan nan nan]\n",
      "[24. nan 29. nan 23. nan nan nan nan]\n",
      "[25. nan nan 26. nan nan nan nan nan]\n",
      "[26. nan 27. nan 25. nan nan nan nan]\n",
      "[27. 26. 28. nan 22. nan  2. nan  2.]\n",
      "[28. 27. 37. nan 29.  2.  2. nan nan]\n",
      "[29. 24. 30. 28. 10. nan nan nan  2.]\n",
      "[30. 29. nan nan 31. nan nan nan nan]\n",
      "[31. nan 32. 30. nan nan nan nan nan]\n",
      "[32. 31. 33. 37. 14. nan nan  2. nan]\n",
      "[33. 32. nan 36. 16. nan nan nan nan]\n",
      "[34. nan nan nan 20. nan nan nan nan]\n",
      "[35. 36. nan nan nan nan nan nan nan]\n",
      "[36. nan 35. nan 33. nan nan nan nan]\n",
      "[37. 28. 38. nan 32.  2.  2. nan  2.]\n",
      "[38. 37. nan nan nan  2. nan nan nan]\n"
     ]
    }
   ],
   "source": [
    "for dt in raw_data:\n",
    "    print (dt)"
   ]
  },
  {
   "cell_type": "code",
   "execution_count": 29,
   "metadata": {},
   "outputs": [],
   "source": [
    "dt = raw_data[0]"
   ]
  },
  {
   "cell_type": "code",
   "execution_count": 31,
   "metadata": {},
   "outputs": [
    {
     "data": {
      "text/plain": [
       "1.0"
      ]
     },
     "execution_count": 31,
     "metadata": {},
     "output_type": "execute_result"
    }
   ],
   "source": [
    "dt[0]"
   ]
  },
  {
   "cell_type": "code",
   "execution_count": 33,
   "metadata": {},
   "outputs": [
    {
     "data": {
      "text/plain": [
       "range(1, 5)"
      ]
     },
     "execution_count": 33,
     "metadata": {},
     "output_type": "execute_result"
    }
   ],
   "source": [
    "for i in range(1,5):\n",
    "    print(i)"
   ]
  },
  {
   "cell_type": "code",
   "execution_count": null,
   "metadata": {},
   "outputs": [],
   "source": []
  }
 ],
 "metadata": {
  "kernelspec": {
   "display_name": "Python 3",
   "language": "python",
   "name": "python3"
  },
  "language_info": {
   "codemirror_mode": {
    "name": "ipython",
    "version": 3
   },
   "file_extension": ".py",
   "mimetype": "text/x-python",
   "name": "python",
   "nbconvert_exporter": "python",
   "pygments_lexer": "ipython3",
   "version": "3.6.6"
  }
 },
 "nbformat": 4,
 "nbformat_minor": 2
}
